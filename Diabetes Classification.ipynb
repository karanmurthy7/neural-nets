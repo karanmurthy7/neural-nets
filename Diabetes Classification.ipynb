{
 "cells": [
  {
   "cell_type": "code",
   "execution_count": 1,
   "metadata": {},
   "outputs": [],
   "source": [
    "import torch\n",
    "from torch.autograd import Variable\n",
    "import numpy as np"
   ]
  },
  {
   "cell_type": "code",
   "execution_count": 3,
   "metadata": {},
   "outputs": [],
   "source": [
    "xy = np.loadtxt('./data/diabetes.csv.gz', delimiter=',', dtype=np.float32)\n",
    "x_data = Variable(torch.from_numpy(xy[:, 0:-1]))\n",
    "y_data = Variable(torch.from_numpy(xy[:, [-1]]))"
   ]
  },
  {
   "cell_type": "code",
   "execution_count": 4,
   "metadata": {},
   "outputs": [
    {
     "name": "stdout",
     "output_type": "stream",
     "text": [
      "torch.Size([759, 8])\n",
      "torch.Size([759, 1])\n"
     ]
    }
   ],
   "source": [
    "print(x_data.data.shape)\n",
    "print(y_data.data.shape)"
   ]
  },
  {
   "cell_type": "code",
   "execution_count": 5,
   "metadata": {},
   "outputs": [],
   "source": [
    "class Model(torch.nn.Module):\n",
    "\n",
    "    def __init__(self):\n",
    "        \"\"\"\n",
    "        In the constructor we instantiate two nn.Linear module\n",
    "        \"\"\"\n",
    "        super(Model, self).__init__()\n",
    "        self.l1 = torch.nn.Linear(8, 6)\n",
    "        self.l2 = torch.nn.Linear(6, 4)\n",
    "        self.l3 = torch.nn.Linear(4, 1)\n",
    "\n",
    "        self.sigmoid = torch.nn.Sigmoid()\n",
    "\n",
    "    def forward(self, x):\n",
    "        \"\"\"\n",
    "        In the forward function we accept a Variable of input data and we must return\n",
    "        a Variable of output data. We can use Modules defined in the constructor as\n",
    "        well as arbitrary operators on Variables.\n",
    "        \"\"\"\n",
    "        out1 = self.sigmoid(self.l1(x))\n",
    "        out2 = self.sigmoid(self.l2(out1))\n",
    "        y_pred = self.sigmoid(self.l3(out2))\n",
    "        return y_pred"
   ]
  },
  {
   "cell_type": "code",
   "execution_count": 6,
   "metadata": {},
   "outputs": [],
   "source": [
    "# our model\n",
    "model = Model()\n",
    "\n",
    "\n",
    "# Construct our loss function and an Optimizer. The call to model.parameters()\n",
    "# in the SGD constructor will contain the learnable parameters of the two\n",
    "# nn.Linear modules which are members of the model.\n",
    "criterion = torch.nn.BCELoss(size_average=True)\n",
    "optimizer = torch.optim.SGD(model.parameters(), lr=0.1)"
   ]
  },
  {
   "cell_type": "code",
   "execution_count": 9,
   "metadata": {},
   "outputs": [
    {
     "name": "stdout",
     "output_type": "stream",
     "text": [
      "0 0.6402827501296997\n",
      "1 0.6402749419212341\n",
      "2 0.6402666568756104\n",
      "3 0.6402589678764343\n",
      "4 0.6402503252029419\n",
      "5 0.640242338180542\n",
      "6 0.6402343511581421\n",
      "7 0.6402254700660706\n",
      "8 0.6402170658111572\n",
      "9 0.6402093172073364\n",
      "10 0.6402010321617126\n",
      "11 0.6401926279067993\n",
      "12 0.6401844620704651\n",
      "13 0.6401759386062622\n",
      "14 0.640167772769928\n",
      "15 0.6401592493057251\n",
      "16 0.6401509642601013\n",
      "17 0.6401428580284119\n",
      "18 0.6401340961456299\n",
      "19 0.6401258111000061\n",
      "20 0.6401176452636719\n",
      "21 0.6401084065437317\n",
      "22 0.6401005387306213\n",
      "23 0.6400924921035767\n",
      "24 0.6400833129882812\n",
      "25 0.6400753259658813\n",
      "26 0.6400662064552307\n",
      "27 0.6400583386421204\n",
      "28 0.6400498151779175\n",
      "29 0.640041172504425\n",
      "30 0.6400325298309326\n",
      "31 0.6400240063667297\n",
      "32 0.6400155425071716\n",
      "33 0.6400067806243896\n",
      "34 0.6399981379508972\n",
      "35 0.6399895548820496\n",
      "36 0.6399811506271362\n",
      "37 0.6399725079536438\n",
      "38 0.6399630904197693\n",
      "39 0.6399550437927246\n",
      "40 0.6399459838867188\n",
      "41 0.6399374604225159\n",
      "42 0.6399287581443787\n",
      "43 0.6399202346801758\n",
      "44 0.6399111747741699\n",
      "45 0.6399023532867432\n",
      "46 0.6398937106132507\n",
      "47 0.6398844718933105\n",
      "48 0.6398758888244629\n",
      "49 0.6398671269416809\n",
      "50 0.6398580074310303\n",
      "51 0.6398490071296692\n",
      "52 0.639840304851532\n",
      "53 0.6398312449455261\n",
      "54 0.6398223638534546\n",
      "55 0.6398136615753174\n",
      "56 0.6398048400878906\n",
      "57 0.6397956609725952\n",
      "58 0.6397868990898132\n",
      "59 0.6397776007652283\n",
      "60 0.6397684216499329\n",
      "61 0.6397596597671509\n",
      "62 0.6397504806518555\n",
      "63 0.6397415995597839\n",
      "64 0.6397322416305542\n",
      "65 0.639723002910614\n",
      "66 0.6397143602371216\n",
      "67 0.6397051215171814\n",
      "68 0.6396955847740173\n",
      "69 0.6396871209144592\n",
      "70 0.6396774053573608\n",
      "71 0.6396685242652893\n",
      "72 0.639659583568573\n",
      "73 0.6396498680114746\n",
      "74 0.6396406888961792\n",
      "75 0.6396304368972778\n",
      "76 0.6396217942237854\n",
      "77 0.639613151550293\n",
      "78 0.6396036148071289\n",
      "79 0.639594316482544\n",
      "80 0.6395843625068665\n",
      "81 0.639575719833374\n",
      "82 0.63956618309021\n",
      "83 0.6395566463470459\n",
      "84 0.6395471096038818\n",
      "85 0.6395378708839417\n",
      "86 0.6395285129547119\n",
      "87 0.6395185589790344\n",
      "88 0.6395091414451599\n",
      "89 0.6394996643066406\n",
      "90 0.6394906044006348\n",
      "91 0.6394810080528259\n",
      "92 0.6394715905189514\n",
      "93 0.6394615769386292\n",
      "94 0.6394522190093994\n",
      "95 0.6394425630569458\n",
      "96 0.639432966709137\n",
      "97 0.6394236087799072\n",
      "98 0.6394138932228088\n",
      "99 0.6394039392471313\n"
     ]
    }
   ],
   "source": [
    "# Training loop\n",
    "for epoch in range(100):\n",
    "        # Forward pass: Compute predicted y by passing x to the model\n",
    "    y_pred = model(x_data)\n",
    "\n",
    "    # Compute and print loss\n",
    "    loss = criterion(y_pred, y_data)\n",
    "    print(epoch, loss.data[0])\n",
    "\n",
    "    # Zero gradients, perform a backward pass, and update the weights.\n",
    "    optimizer.zero_grad()\n",
    "    loss.backward()\n",
    "    optimizer.step()"
   ]
  },
  {
   "cell_type": "code",
   "execution_count": null,
   "metadata": {},
   "outputs": [],
   "source": []
  }
 ],
 "metadata": {
  "kernelspec": {
   "display_name": "Python 3",
   "language": "python",
   "name": "python3"
  },
  "language_info": {
   "codemirror_mode": {
    "name": "ipython",
    "version": 3
   },
   "file_extension": ".py",
   "mimetype": "text/x-python",
   "name": "python",
   "nbconvert_exporter": "python",
   "pygments_lexer": "ipython3",
   "version": "3.6.4"
  }
 },
 "nbformat": 4,
 "nbformat_minor": 2
}
