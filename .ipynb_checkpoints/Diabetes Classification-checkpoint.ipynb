{
 "cells": [
  {
   "cell_type": "code",
   "execution_count": 1,
   "metadata": {},
   "outputs": [],
   "source": [
    "import torch\n",
    "from torch.autograd import Variable\n",
    "import numpy as np"
   ]
  },
  {
   "cell_type": "code",
   "execution_count": 3,
   "metadata": {},
   "outputs": [],
   "source": [
    "xy = np.loadtxt('./data/diabetes.csv.gz', delimiter=',', dtype=np.float32)\n",
    "x_data = Variable(torch.from_numpy(xy[:, 0:-1]))\n",
    "y_data = Variable(torch.from_numpy(xy[:, [-1]]))"
   ]
  },
  {
   "cell_type": "code",
   "execution_count": 4,
   "metadata": {},
   "outputs": [
    {
     "name": "stdout",
     "output_type": "stream",
     "text": [
      "torch.Size([759, 8])\n",
      "torch.Size([759, 1])\n"
     ]
    }
   ],
   "source": [
    "print(x_data.data.shape)\n",
    "print(y_data.data.shape)"
   ]
  },
  {
   "cell_type": "code",
   "execution_count": 5,
   "metadata": {},
   "outputs": [],
   "source": [
    "class Model(torch.nn.Module):\n",
    "\n",
    "    def __init__(self):\n",
    "        \"\"\"\n",
    "        In the constructor we instantiate two nn.Linear module\n",
    "        \"\"\"\n",
    "        super(Model, self).__init__()\n",
    "        self.l1 = torch.nn.Linear(8, 6)\n",
    "        self.l2 = torch.nn.Linear(6, 4)\n",
    "        self.l3 = torch.nn.Linear(4, 1)\n",
    "\n",
    "        self.sigmoid = torch.nn.Sigmoid()\n",
    "\n",
    "    def forward(self, x):\n",
    "        \"\"\"\n",
    "        In the forward function we accept a Variable of input data and we must return\n",
    "        a Variable of output data. We can use Modules defined in the constructor as\n",
    "        well as arbitrary operators on Variables.\n",
    "        \"\"\"\n",
    "        out1 = self.sigmoid(self.l1(x))\n",
    "        out2 = self.sigmoid(self.l2(out1))\n",
    "        y_pred = self.sigmoid(self.l3(out2))\n",
    "        return y_pred"
   ]
  },
  {
   "cell_type": "code",
   "execution_count": 6,
   "metadata": {},
   "outputs": [],
   "source": [
    "# our model\n",
    "model = Model()\n",
    "\n",
    "\n",
    "# Construct our loss function and an Optimizer. The call to model.parameters()\n",
    "# in the SGD constructor will contain the learnable parameters of the two\n",
    "# nn.Linear modules which are members of the model.\n",
    "criterion = torch.nn.BCELoss(size_average=True)\n",
    "optimizer = torch.optim.SGD(model.parameters(), lr=0.1)"
   ]
  },
  {
   "cell_type": "code",
   "execution_count": 7,
   "metadata": {},
   "outputs": [
    {
     "name": "stdout",
     "output_type": "stream",
     "text": [
      "0 0.7500368356704712\n",
      "1 0.7400974035263062\n",
      "2 0.7310887575149536\n",
      "3 0.7229262590408325\n",
      "4 0.7155336141586304\n",
      "5 0.7088391184806824\n",
      "6 0.7027798295021057\n",
      "7 0.6972942352294922\n",
      "8 0.6923296451568604\n",
      "9 0.6878364682197571\n",
      "10 0.683769941329956\n",
      "11 0.6800909638404846\n",
      "12 0.6767603754997253\n",
      "13 0.6737459301948547\n",
      "14 0.6710176467895508\n",
      "15 0.6685473918914795\n",
      "16 0.6663113236427307\n",
      "17 0.6642870903015137\n",
      "18 0.6624532341957092\n",
      "19 0.6607922911643982\n",
      "20 0.6592877507209778\n",
      "21 0.657925009727478\n",
      "22 0.6566901803016663\n",
      "23 0.6555706262588501\n",
      "24 0.6545560359954834\n",
      "25 0.6536359786987305\n",
      "26 0.6528022885322571\n",
      "27 0.6520459055900574\n",
      "28 0.6513597965240479\n",
      "29 0.6507370471954346\n",
      "30 0.6501719951629639\n",
      "31 0.6496595144271851\n",
      "32 0.6491944193840027\n",
      "33 0.6487717628479004\n",
      "34 0.6483885049819946\n",
      "35 0.6480399966239929\n",
      "36 0.6477236747741699\n",
      "37 0.647436261177063\n",
      "38 0.6471747159957886\n",
      "39 0.646937370300293\n",
      "40 0.6467215418815613\n",
      "41 0.6465250849723816\n",
      "42 0.6463471055030823\n",
      "43 0.6461844444274902\n",
      "44 0.6460375189781189\n",
      "45 0.6459031105041504\n",
      "46 0.6457804441452026\n",
      "47 0.6456693410873413\n",
      "48 0.6455680131912231\n",
      "49 0.645476222038269\n",
      "50 0.645391583442688\n",
      "51 0.6453152298927307\n",
      "52 0.6452449560165405\n",
      "53 0.6451814770698547\n",
      "54 0.645122766494751\n",
      "55 0.6450705528259277\n",
      "56 0.6450211405754089\n",
      "57 0.644977331161499\n",
      "58 0.6449370980262756\n",
      "59 0.6448999643325806\n",
      "60 0.6448662877082825\n",
      "61 0.6448356509208679\n",
      "62 0.6448071002960205\n",
      "63 0.6447814702987671\n",
      "64 0.6447570323944092\n",
      "65 0.6447358131408691\n",
      "66 0.6447155475616455\n",
      "67 0.6446973085403442\n",
      "68 0.6446799635887146\n",
      "69 0.6446642875671387\n",
      "70 0.6446499228477478\n",
      "71 0.6446364521980286\n",
      "72 0.6446242928504944\n",
      "73 0.6446129679679871\n",
      "74 0.6446022987365723\n",
      "75 0.6445925235748291\n",
      "76 0.644583523273468\n",
      "77 0.6445748209953308\n",
      "78 0.6445669531822205\n",
      "79 0.6445595622062683\n",
      "80 0.6445528864860535\n",
      "81 0.644546389579773\n",
      "82 0.644540011882782\n",
      "83 0.644534170627594\n",
      "84 0.6445288062095642\n",
      "85 0.6445239782333374\n",
      "86 0.6445187330245972\n",
      "87 0.6445140838623047\n",
      "88 0.6445095539093018\n",
      "89 0.6445058584213257\n",
      "90 0.6445015072822571\n",
      "91 0.6444982290267944\n",
      "92 0.6444939970970154\n",
      "93 0.644490659236908\n",
      "94 0.644487202167511\n",
      "95 0.644483745098114\n",
      "96 0.6444805860519409\n",
      "97 0.6444776058197021\n",
      "98 0.64447420835495\n",
      "99 0.6444716453552246\n"
     ]
    }
   ],
   "source": [
    "# Training loop\n",
    "for epoch in range(1000):\n",
    "        # Forward pass: Compute predicted y by passing x to the model\n",
    "    y_pred = model(x_data)\n",
    "\n",
    "    # Compute and print loss\n",
    "    loss = criterion(y_pred, y_data)\n",
    "    print(epoch, loss.data[0])\n",
    "\n",
    "    # Zero gradients, perform a backward pass, and update the weights.\n",
    "    optimizer.zero_grad()\n",
    "    loss.backward()\n",
    "    optimizer.step()"
   ]
  },
  {
   "cell_type": "code",
   "execution_count": null,
   "metadata": {},
   "outputs": [],
   "source": []
  }
 ],
 "metadata": {
  "kernelspec": {
   "display_name": "Python 3",
   "language": "python",
   "name": "python3"
  },
  "language_info": {
   "codemirror_mode": {
    "name": "ipython",
    "version": 3
   },
   "file_extension": ".py",
   "mimetype": "text/x-python",
   "name": "python",
   "nbconvert_exporter": "python",
   "pygments_lexer": "ipython3",
   "version": "3.6.4"
  }
 },
 "nbformat": 4,
 "nbformat_minor": 2
}
