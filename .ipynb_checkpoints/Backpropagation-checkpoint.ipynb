{
 "cells": [
  {
   "cell_type": "code",
   "execution_count": 2,
   "metadata": {},
   "outputs": [],
   "source": [
    "import torch\n",
    "from torch.autograd import Variable"
   ]
  },
  {
   "cell_type": "code",
   "execution_count": 4,
   "metadata": {},
   "outputs": [],
   "source": [
    "x_data = [1.0, 2.0, 3.0]\n",
    "y_data = [2.0, 4.0, 6.0]"
   ]
  },
  {
   "cell_type": "code",
   "execution_count": 5,
   "metadata": {},
   "outputs": [],
   "source": [
    "w = Variable(torch.Tensor([1.0]),  requires_grad=True)  # Any random value"
   ]
  },
  {
   "cell_type": "code",
   "execution_count": 8,
   "metadata": {},
   "outputs": [],
   "source": [
    "def forward(x):\n",
    "    return x * w\n",
    "\n",
    "# Loss function\n",
    "\n",
    "\n",
    "def loss(x, y):\n",
    "    y_pred = forward(x)\n",
    "    return (y_pred - y) * (y_pred - y)"
   ]
  },
  {
   "cell_type": "code",
   "execution_count": 14,
   "metadata": {},
   "outputs": [
    {
     "name": "stdout",
     "output_type": "stream",
     "text": [
      "predict (before training) 4 7.999977111816406\n",
      "\t grad:  1.0 2.0 -1.1444091796875e-05\n",
      "\t grad:  2.0 4.0 -4.482269287109375e-05\n",
      "\t grad:  3.0 6.0 -9.1552734375e-05\n",
      "progress: 0 2.3283064365386963e-10\n",
      "\t grad:  1.0 2.0 -8.344650268554688e-06\n",
      "\t grad:  2.0 4.0 -3.24249267578125e-05\n",
      "\t grad:  3.0 6.0 -6.580352783203125e-05\n",
      "progress: 1 1.2028067430946976e-10\n",
      "\t grad:  1.0 2.0 -5.9604644775390625e-06\n",
      "\t grad:  2.0 4.0 -2.288818359375e-05\n",
      "\t grad:  3.0 6.0 -4.57763671875e-05\n",
      "progress: 2 5.820766091346741e-11\n",
      "\t grad:  1.0 2.0 -4.291534423828125e-06\n",
      "\t grad:  2.0 4.0 -1.71661376953125e-05\n",
      "\t grad:  3.0 6.0 -3.719329833984375e-05\n",
      "progress: 3 3.842615114990622e-11\n",
      "\t grad:  1.0 2.0 -3.337860107421875e-06\n",
      "\t grad:  2.0 4.0 -1.33514404296875e-05\n",
      "\t grad:  3.0 6.0 -2.86102294921875e-05\n",
      "progress: 4 2.2737367544323206e-11\n",
      "\t grad:  1.0 2.0 -2.6226043701171875e-06\n",
      "\t grad:  2.0 4.0 -1.049041748046875e-05\n",
      "\t grad:  3.0 6.0 -2.288818359375e-05\n",
      "progress: 5 1.4551915228366852e-11\n",
      "\t grad:  1.0 2.0 -1.9073486328125e-06\n",
      "\t grad:  2.0 4.0 -7.62939453125e-06\n",
      "\t grad:  3.0 6.0 -1.430511474609375e-05\n",
      "progress: 6 5.6843418860808015e-12\n",
      "\t grad:  1.0 2.0 -1.430511474609375e-06\n",
      "\t grad:  2.0 4.0 -5.7220458984375e-06\n",
      "\t grad:  3.0 6.0 -1.1444091796875e-05\n",
      "progress: 7 3.637978807091713e-12\n",
      "\t grad:  1.0 2.0 -1.1920928955078125e-06\n",
      "\t grad:  2.0 4.0 -4.76837158203125e-06\n",
      "\t grad:  3.0 6.0 -1.1444091796875e-05\n",
      "progress: 8 3.637978807091713e-12\n",
      "\t grad:  1.0 2.0 -9.5367431640625e-07\n",
      "\t grad:  2.0 4.0 -3.814697265625e-06\n",
      "\t grad:  3.0 6.0 -8.58306884765625e-06\n",
      "progress: 9 2.0463630789890885e-12\n",
      "predict (after training) 4 7.999998569488525\n"
     ]
    }
   ],
   "source": [
    "# Before training\n",
    "print(\"predict (before training)\",  4, forward(4).data[0])\n",
    "\n",
    "# Training loop\n",
    "for epoch in range(10):\n",
    "    for x_val, y_val in zip(x_data, y_data):\n",
    "        l = loss(x_val, y_val)\n",
    "        l.backward()\n",
    "        print(type(w.grad.data))\n",
    "        print(\"\\t grad: \", x_val, y_val, w.grad.data[0])\n",
    "        w.data = w.data - 0.01 * w.grad.data\n",
    "\n",
    "        # Manually zero the gradients after updating weights\n",
    "        w.grad.data.zero_()\n",
    "\n",
    "    print(\"progress:\", epoch, l.data[0])\n",
    "\n",
    "# After training\n",
    "print(\"predict (after training)\", 4, forward(4).data[0])\n"
   ]
  },
  {
   "cell_type": "code",
   "execution_count": 16,
   "metadata": {},
   "outputs": [
    {
     "name": "stdout",
     "output_type": "stream",
     "text": [
      "\n",
      " 0\n",
      "[torch.FloatTensor of size 1]\n",
      "\n"
     ]
    }
   ],
   "source": [
    "print(w.grad.data)"
   ]
  }
 ],
 "metadata": {
  "kernelspec": {
   "display_name": "Python 3",
   "language": "python",
   "name": "python3"
  },
  "language_info": {
   "codemirror_mode": {
    "name": "ipython",
    "version": 3
   },
   "file_extension": ".py",
   "mimetype": "text/x-python",
   "name": "python",
   "nbconvert_exporter": "python",
   "pygments_lexer": "ipython3",
   "version": "3.6.4"
  }
 },
 "nbformat": 4,
 "nbformat_minor": 2
}
