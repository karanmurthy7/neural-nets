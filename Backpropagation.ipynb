{
 "cells": [
  {
   "cell_type": "code",
   "execution_count": 2,
   "metadata": {},
   "outputs": [],
   "source": [
    "import torch\n",
    "from torch.autograd import Variable"
   ]
  },
  {
   "cell_type": "code",
   "execution_count": 4,
   "metadata": {},
   "outputs": [],
   "source": [
    "x_data = [1.0, 2.0, 3.0]\n",
    "y_data = [2.0, 4.0, 6.0]"
   ]
  },
  {
   "cell_type": "code",
   "execution_count": 5,
   "metadata": {},
   "outputs": [],
   "source": [
    "w = Variable(torch.Tensor([1.0]),  requires_grad=True)  # Any random value"
   ]
  },
  {
   "cell_type": "code",
   "execution_count": 8,
   "metadata": {},
   "outputs": [],
   "source": [
    "def forward(x):\n",
    "    return x * w\n",
    "\n",
    "# Loss function\n",
    "\n",
    "\n",
    "def loss(x, y):\n",
    "    y_pred = forward(x)\n",
    "    return (y_pred - y) * (y_pred - y)"
   ]
  },
  {
   "cell_type": "code",
   "execution_count": 19,
   "metadata": {},
   "outputs": [
    {
     "name": "stdout",
     "output_type": "stream",
     "text": [
      "predict (before training) 4 7.999998569488525\n",
      "\t grad:  1.0 2.0 -7.152557373046875e-07\n",
      "\t grad:  2.0 4.0 -2.86102294921875e-06\n",
      "\t grad:  3.0 6.0 -5.7220458984375e-06\n",
      "progress: 0 9.094947017729282e-13\n",
      "\t grad:  1.0 2.0 -7.152557373046875e-07\n",
      "\t grad:  2.0 4.0 -2.86102294921875e-06\n",
      "\t grad:  3.0 6.0 -5.7220458984375e-06\n",
      "progress: 1 9.094947017729282e-13\n",
      "\t grad:  1.0 2.0 -7.152557373046875e-07\n",
      "\t grad:  2.0 4.0 -2.86102294921875e-06\n",
      "\t grad:  3.0 6.0 -5.7220458984375e-06\n",
      "progress: 2 9.094947017729282e-13\n",
      "\t grad:  1.0 2.0 -7.152557373046875e-07\n",
      "\t grad:  2.0 4.0 -2.86102294921875e-06\n",
      "\t grad:  3.0 6.0 -5.7220458984375e-06\n",
      "progress: 3 9.094947017729282e-13\n",
      "\t grad:  1.0 2.0 -7.152557373046875e-07\n",
      "\t grad:  2.0 4.0 -2.86102294921875e-06\n",
      "\t grad:  3.0 6.0 -5.7220458984375e-06\n",
      "progress: 4 9.094947017729282e-13\n",
      "\t grad:  1.0 2.0 -7.152557373046875e-07\n",
      "\t grad:  2.0 4.0 -2.86102294921875e-06\n",
      "\t grad:  3.0 6.0 -5.7220458984375e-06\n",
      "progress: 5 9.094947017729282e-13\n",
      "\t grad:  1.0 2.0 -7.152557373046875e-07\n",
      "\t grad:  2.0 4.0 -2.86102294921875e-06\n",
      "\t grad:  3.0 6.0 -5.7220458984375e-06\n",
      "progress: 6 9.094947017729282e-13\n",
      "\t grad:  1.0 2.0 -7.152557373046875e-07\n",
      "\t grad:  2.0 4.0 -2.86102294921875e-06\n",
      "\t grad:  3.0 6.0 -5.7220458984375e-06\n",
      "progress: 7 9.094947017729282e-13\n",
      "\t grad:  1.0 2.0 -7.152557373046875e-07\n",
      "\t grad:  2.0 4.0 -2.86102294921875e-06\n",
      "\t grad:  3.0 6.0 -5.7220458984375e-06\n",
      "progress: 8 9.094947017729282e-13\n",
      "\t grad:  1.0 2.0 -7.152557373046875e-07\n",
      "\t grad:  2.0 4.0 -2.86102294921875e-06\n",
      "\t grad:  3.0 6.0 -5.7220458984375e-06\n",
      "progress: 9 9.094947017729282e-13\n",
      "predict (after training) 4 7.999998569488525\n"
     ]
    }
   ],
   "source": [
    "# Before training\n",
    "print(\"predict (before training)\",  4, forward(4).data[0])\n",
    "\n",
    "# Training loop\n",
    "for epoch in range(10):\n",
    "    for x_val, y_val in zip(x_data, y_data):\n",
    "        l = loss(x_val, y_val)\n",
    "        l.backward()\n",
    "        print(\"\\t grad: \", x_val, y_val, w.grad.data[0])\n",
    "        w.data = w.data - 0.01 * w.grad.data\n",
    "\n",
    "        # Manually zero the gradients after updating weights\n",
    "        w.grad.data.zero_()\n",
    "\n",
    "    print(\"progress:\", epoch, l.data[0])\n",
    "\n",
    "# After training\n",
    "print(\"predict (after training)\", 4, forward(4).data[0])\n"
   ]
  }
 ],
 "metadata": {
  "kernelspec": {
   "display_name": "Python 3",
   "language": "python",
   "name": "python3"
  },
  "language_info": {
   "codemirror_mode": {
    "name": "ipython",
    "version": 3
   },
   "file_extension": ".py",
   "mimetype": "text/x-python",
   "name": "python",
   "nbconvert_exporter": "python",
   "pygments_lexer": "ipython3",
   "version": "3.6.4"
  }
 },
 "nbformat": 4,
 "nbformat_minor": 2
}
